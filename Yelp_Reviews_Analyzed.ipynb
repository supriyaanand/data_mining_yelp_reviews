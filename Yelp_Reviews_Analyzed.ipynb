{
 "cells": [
  {
   "cell_type": "code",
   "execution_count": 364,
   "metadata": {
    "collapsed": false
   },
   "outputs": [],
   "source": [
    "%matplotlib inline\n",
    "import numpy as np\n",
    "import pandas as pd\n",
    "import requests\n",
    "import oauth2\n",
    "from IPython.display import display, HTML"
   ]
  },
  {
   "cell_type": "code",
   "execution_count": 365,
   "metadata": {
    "collapsed": false
   },
   "outputs": [],
   "source": [
    "class OauthAuthenticator(object):\n",
    "\n",
    "    def __init__(self, consumer_key, consumer_secret, token, token_secret):\n",
    "        self.consumer = oauth2.Consumer(consumer_key, consumer_secret)\n",
    "        self.token = oauth2.Token(token, token_secret)\n",
    "\n",
    "    def sign_request(self, url, url_params={}):\n",
    "        oauth_request = oauth2.Request(\n",
    "            method=\"GET\",\n",
    "            url=url,\n",
    "            parameters=url_params\n",
    "        )\n",
    "        oauth_request.update(\n",
    "            {\n",
    "                'oauth_nonce': oauth2.generate_nonce(),\n",
    "                'oauth_timestamp': oauth2.generate_timestamp(),\n",
    "                'oauth_token': self.token.key,\n",
    "                'oauth_consumer_key': self.consumer.key\n",
    "            }\n",
    "        )\n",
    "        oauth_request.sign_request(\n",
    "            oauth2.SignatureMethod_HMAC_SHA1(),\n",
    "            self.consumer,\n",
    "            self.token\n",
    "        )\n",
    "        return oauth_request.to_url()\n",
    "    \n",
    "auth = OauthAuthenticator('consumer-key', 'consumer-secret',\n",
    "                  'token', 'token-secret')    \n",
    "\n",
    "# Businesses filtered to landmarks category\n",
    "url = 'https://api.yelp.com/v2/search?location=San Francisco CA&limit=15&category_filter=landmarks&sort=2'\n",
    "response = requests.get(auth.sign_request(url))\n",
    "data = response.json()\n",
    "df = pd.io.json.json_normalize(data['businesses'])\n",
    "\n",
    "# Businesses filtered to restaurants/cafes category\n",
    "url = 'https://api.yelp.com/v2/search?location=San Francisco CA&limit=15&category_filter=restaurants&sort=2'\n",
    "response = requests.get(auth.sign_request(url))\n",
    "data = response.json()\n",
    "df = df.append(pd.io.json.json_normalize(data['businesses']), ignore_index=True)"
   ]
  },
  {
   "cell_type": "code",
   "execution_count": 366,
   "metadata": {
    "collapsed": false
   },
   "outputs": [
    {
     "name": "stdout",
     "output_type": "stream",
     "text": [
      "(30, 7)\n",
      "                                           categories  \\\n",
      "0     [[Landmarks & Historical Buildings, landmarks]]   \n",
      "1   [[Landmarks & Historical Buildings, landmarks]...   \n",
      "2   [[Landmarks & Historical Buildings, landmarks]...   \n",
      "3     [[Landmarks & Historical Buildings, landmarks]]   \n",
      "4   [[Landmarks & Historical Buildings, landmarks]...   \n",
      "5   [[Landmarks & Historical Buildings, landmarks]...   \n",
      "6   [[Landmarks & Historical Buildings, landmarks]...   \n",
      "7     [[Landmarks & Historical Buildings, landmarks]]   \n",
      "8     [[Landmarks & Historical Buildings, landmarks]]   \n",
      "9     [[Landmarks & Historical Buildings, landmarks]]   \n",
      "10  [[Landmarks & Historical Buildings, landmarks]...   \n",
      "11    [[Landmarks & Historical Buildings, landmarks]]   \n",
      "12  [[Landmarks & Historical Buildings, landmarks]...   \n",
      "13  [[Landmarks & Historical Buildings, landmarks]...   \n",
      "14    [[Landmarks & Historical Buildings, landmarks]]   \n",
      "15  [[American (Traditional), tradamerican], [Cock...   \n",
      "16  [[Diners, diners], [Sandwiches, sandwiches], [...   \n",
      "17               [[Falafel, falafel], [Vegan, vegan]]   \n",
      "18           [[Italian, italian], [Grocery, grocery]]   \n",
      "19                    [[American (New), newamerican]]   \n",
      "20                               [[Italian, italian]]   \n",
      "21  [[Hawaiian, hawaiian], [Food Trucks, foodtrucks]]   \n",
      "22  [[Burgers, burgers], [Salad, salad], [American...   \n",
      "23   [[Greek, greek], [Mediterranean, mediterranean]]   \n",
      "24  [[Chinese, chinese], [Sandwiches, sandwiches],...   \n",
      "25  [[Gastropubs, gastropubs], [Cocktail Bars, coc...   \n",
      "26  [[British, british], [Fish & Chips, fishnchips...   \n",
      "27                         [[Sandwiches, sandwiches]]   \n",
      "28                    [[American (New), newamerican]]   \n",
      "29  [[Mexican, mexican], [Burgers, burgers], [Gast...   \n",
      "\n",
      "                                              id  \\\n",
      "0              hidden-garden-steps-san-francisco   \n",
      "1      the-16th-avenue-tiled-steps-san-francisco   \n",
      "2                   fort-funston-san-francisco-3   \n",
      "3                       fort-point-san-francisco   \n",
      "4                           pier-7-san-francisco   \n",
      "5                       twin-peaks-san-francisco   \n",
      "6                      marin-headlands-sausalito   \n",
      "7              palace-of-fine-arts-san-francisco   \n",
      "8   martin-luther-king-jr-memorial-san-francisco   \n",
      "9   yoda-fountain-at-lucasfilms-hq-san-francisco   \n",
      "10                    eagles-point-san-francisco   \n",
      "11                     sutro-baths-san-francisco   \n",
      "12                    the-presidio-san-francisco   \n",
      "13                       city-hall-san-francisco   \n",
      "14      golden-gate-park-windmills-san-francisco   \n",
      "15              hos-bootleg-tavern-san-francisco   \n",
      "16                    starboard-sf-san-francisco   \n",
      "17            the-flying-falafel-san-francisco-3   \n",
      "18  the-italian-homemade-company-san-francisco-4   \n",
      "19                      gary-danko-san-francisco   \n",
      "20  the-italian-homemade-company-san-francisco-6   \n",
      "21                     fresh-catch-poke-san-jose   \n",
      "22                    rove-kitchen-san-francisco   \n",
      "23              kokkari-estiatorio-san-francisco   \n",
      "24                  the-chairman-san-francisco-2   \n",
      "25                     lord-george-san-francisco   \n",
      "26    the-codmother-fish-and-chips-san-francisco   \n",
      "27                      ikes-place-san-francisco   \n",
      "28                  stones-throw-san-francisco-2   \n",
      "29                          garaje-san-francisco   \n",
      "\n",
      "                                     location.address  location.city  \\\n",
      "0                                          [16th Ave]  San Francisco   \n",
      "1                                         [Moraga St]  San Francisco   \n",
      "2                                      [Skyline Blvd]  San Francisco   \n",
      "3                                         [Marine Dr]  San Francisco   \n",
      "4                                   [The Embarcadero]  San Francisco   \n",
      "5                               [501 Twin Peaks Blvd]  San Francisco   \n",
      "6                                    [948 Fort Barry]      Sausalito   \n",
      "7                                      [3301 Lyon St]  San Francisco   \n",
      "8                                    [745 Mission St]  San Francisco   \n",
      "9                      [The Presidio, 1 Letterman Dr]  San Francisco   \n",
      "10                   [El Camino Del Mar and 32nd Ave]  San Francisco   \n",
      "11  [Point Lobos Ave & Merrie Way, Golden Gate Nat...  San Francisco   \n",
      "12                                                 []  San Francisco   \n",
      "13                       [1 Dr Carlton B Goodlett Pl]  San Francisco   \n",
      "14                    [John F Kennedy Dr & Great Hwy]  San Francisco   \n",
      "15                                [2360 Van Ness Ave]  San Francisco   \n",
      "16                                     [2919 16th St]  San Francisco   \n",
      "17                                   [1051 Market St]  San Francisco   \n",
      "18                                 [716 Columbus Ave]  San Francisco   \n",
      "19                                   [800 N Point St]  San Francisco   \n",
      "20                                    [1919 Union St]  San Francisco   \n",
      "21                                                 []       San Jose   \n",
      "22                                      [678 Post St]  San Francisco   \n",
      "23                                   [200 Jackson St]  San Francisco   \n",
      "24                                    [670 Larkin St]  San Francisco   \n",
      "25                                       [555 2nd St]  San Francisco   \n",
      "26                                    [496 Beach  St]  San Francisco   \n",
      "27                                     [3489 16th St]  San Francisco   \n",
      "28                                     [1896 Hyde St]  San Francisco   \n",
      "29                                       [475 3rd St]  San Francisco   \n",
      "\n",
      "                              name  rating  review_count  \n",
      "0              Hidden Garden Steps     5.0            25  \n",
      "1      The 16th Avenue Tiled Steps     5.0           398  \n",
      "2                     Fort Funston     5.0           826  \n",
      "3                       Fort Point     5.0           286  \n",
      "4                           Pier 7     4.5            32  \n",
      "5                       Twin Peaks     4.5           891  \n",
      "6                  Marin Headlands     5.0           321  \n",
      "7              Palace Of Fine Arts     4.5           718  \n",
      "8   Martin Luther King Jr Memorial     4.5            28  \n",
      "9   Yoda Fountain at Lucasfilms HQ     4.5           126  \n",
      "10                   Eagle's Point     4.5            22  \n",
      "11                     Sutro Baths     4.5           372  \n",
      "12                    The Presidio     4.5           187  \n",
      "13                       City Hall     4.5           309  \n",
      "14      Golden Gate Park Windmills     4.5            52  \n",
      "15             Ho's Bootleg Tavern     4.5            42  \n",
      "16                    Starboard SF     5.0            21  \n",
      "17              The Flying Falafel     4.5           480  \n",
      "18    The Italian Homemade Company     4.5           461  \n",
      "19                      Gary Danko     4.5          4456  \n",
      "20    The Italian Homemade Company     4.5           145  \n",
      "21                Fresh Catch Poke     5.0            17  \n",
      "22                    Rove Kitchen     4.5           215  \n",
      "23              Kokkari Estiatorio     4.5          3559  \n",
      "24                    The Chairman     4.5           274  \n",
      "25                     Lord George     4.5           109  \n",
      "26    The Codmother Fish and Chips     4.5          1821  \n",
      "27                     Ike's Place     4.5          6919  \n",
      "28                    Stones Throw     4.5           595  \n",
      "29                          Garaje     4.5           940  \n"
     ]
    }
   ],
   "source": [
    "# filter relevant columns\n",
    "df = df[[\"categories\", \"id\", \"location.address\", \"location.city\", \"name\", \"rating\", \"review_count\"]]\n",
    "print df.shape\n",
    "print df"
   ]
  },
  {
   "cell_type": "code",
   "execution_count": 367,
   "metadata": {
    "collapsed": false
   },
   "outputs": [],
   "source": [
    "# collapse categories\n",
    "for i in xrange(30):\n",
    "    row = df.iloc[i]\n",
    "    category = row['categories'][0][0]\n",
    "    df.set_value(i, \"categories\", category)"
   ]
  },
  {
   "cell_type": "code",
   "execution_count": 368,
   "metadata": {
    "collapsed": false
   },
   "outputs": [
    {
     "name": "stdout",
     "output_type": "stream",
     "text": [
      "Highest rated landmarks, restaurants and places to visit in San Francisco\n"
     ]
    },
    {
     "data": {
      "text/html": [
       "<table border=\"1\" class=\"dataframe\">\n",
       "  <thead>\n",
       "    <tr style=\"text-align: right;\">\n",
       "      <th>name</th>\n",
       "      <th>rating</th>\n",
       "      <th>categories</th>\n",
       "    </tr>\n",
       "  </thead>\n",
       "  <tbody>\n",
       "    <tr>\n",
       "      <td>Hidden Garden Steps</td>\n",
       "      <td>5.0</td>\n",
       "      <td>Landmarks &amp; Historical Buildings</td>\n",
       "    </tr>\n",
       "    <tr>\n",
       "      <td>Marin Headlands</td>\n",
       "      <td>5.0</td>\n",
       "      <td>Landmarks &amp; Historical Buildings</td>\n",
       "    </tr>\n",
       "    <tr>\n",
       "      <td>The 16th Avenue Tiled Steps</td>\n",
       "      <td>5.0</td>\n",
       "      <td>Landmarks &amp; Historical Buildings</td>\n",
       "    </tr>\n",
       "    <tr>\n",
       "      <td>Fresh Catch Poke</td>\n",
       "      <td>5.0</td>\n",
       "      <td>Hawaiian</td>\n",
       "    </tr>\n",
       "    <tr>\n",
       "      <td>Starboard SF</td>\n",
       "      <td>5.0</td>\n",
       "      <td>Diners</td>\n",
       "    </tr>\n",
       "    <tr>\n",
       "      <td>Fort Point</td>\n",
       "      <td>5.0</td>\n",
       "      <td>Landmarks &amp; Historical Buildings</td>\n",
       "    </tr>\n",
       "    <tr>\n",
       "      <td>Fort Funston</td>\n",
       "      <td>5.0</td>\n",
       "      <td>Landmarks &amp; Historical Buildings</td>\n",
       "    </tr>\n",
       "    <tr>\n",
       "      <td>Ike's Place</td>\n",
       "      <td>4.5</td>\n",
       "      <td>Sandwiches</td>\n",
       "    </tr>\n",
       "    <tr>\n",
       "      <td>Stones Throw</td>\n",
       "      <td>4.5</td>\n",
       "      <td>American (New)</td>\n",
       "    </tr>\n",
       "    <tr>\n",
       "      <td>The Codmother Fish and Chips</td>\n",
       "      <td>4.5</td>\n",
       "      <td>British</td>\n",
       "    </tr>\n",
       "  </tbody>\n",
       "</table>"
      ],
      "text/plain": [
       "<IPython.core.display.HTML object>"
      ]
     },
     "metadata": {},
     "output_type": "display_data"
    }
   ],
   "source": [
    "df1 = df[[\"name\", \"rating\", \"categories\"]]\n",
    "df1 = df1.sort_values(by='rating', ascending=False)\n",
    "print \"Highest rated landmarks, restaurants and places to visit in San Francisco\"\n",
    "display(HTML(df1[:10].to_html(index=False)))\n"
   ]
  },
  {
   "cell_type": "code",
   "execution_count": 369,
   "metadata": {
    "collapsed": false
   },
   "outputs": [
    {
     "name": "stdout",
     "output_type": "stream",
     "text": [
      "Ten most visited places in San Francisco\n"
     ]
    },
    {
     "data": {
      "text/html": [
       "<table border=\"1\" class=\"dataframe\">\n",
       "  <thead>\n",
       "    <tr style=\"text-align: right;\">\n",
       "      <th>name</th>\n",
       "      <th>review_count</th>\n",
       "    </tr>\n",
       "  </thead>\n",
       "  <tbody>\n",
       "    <tr>\n",
       "      <td>Ike's Place</td>\n",
       "      <td>6919</td>\n",
       "    </tr>\n",
       "    <tr>\n",
       "      <td>Gary Danko</td>\n",
       "      <td>4456</td>\n",
       "    </tr>\n",
       "    <tr>\n",
       "      <td>Kokkari Estiatorio</td>\n",
       "      <td>3559</td>\n",
       "    </tr>\n",
       "    <tr>\n",
       "      <td>The Codmother Fish and Chips</td>\n",
       "      <td>1821</td>\n",
       "    </tr>\n",
       "    <tr>\n",
       "      <td>Garaje</td>\n",
       "      <td>940</td>\n",
       "    </tr>\n",
       "    <tr>\n",
       "      <td>Twin Peaks</td>\n",
       "      <td>891</td>\n",
       "    </tr>\n",
       "    <tr>\n",
       "      <td>Fort Funston</td>\n",
       "      <td>826</td>\n",
       "    </tr>\n",
       "    <tr>\n",
       "      <td>Palace Of Fine Arts</td>\n",
       "      <td>718</td>\n",
       "    </tr>\n",
       "    <tr>\n",
       "      <td>Stones Throw</td>\n",
       "      <td>595</td>\n",
       "    </tr>\n",
       "    <tr>\n",
       "      <td>The Flying Falafel</td>\n",
       "      <td>480</td>\n",
       "    </tr>\n",
       "  </tbody>\n",
       "</table>"
      ],
      "text/plain": [
       "<IPython.core.display.HTML object>"
      ]
     },
     "metadata": {},
     "output_type": "display_data"
    }
   ],
   "source": [
    "df2 = df[[\"name\", \"review_count\"]]\n",
    "df2 = df2.sort_values(by='review_count', ascending=False)\n",
    "print \"Ten most visited places in San Francisco\"\n",
    "display(HTML(df2[:10].to_html(index=False)))"
   ]
  },
  {
   "cell_type": "code",
   "execution_count": 370,
   "metadata": {
    "collapsed": false
   },
   "outputs": [
    {
     "name": "stdout",
     "output_type": "stream",
     "text": [
      "Hidden gems in San Francisco\n"
     ]
    },
    {
     "data": {
      "text/html": [
       "<table border=\"1\" class=\"dataframe\">\n",
       "  <thead>\n",
       "    <tr style=\"text-align: right;\">\n",
       "      <th>name</th>\n",
       "      <th>review_count</th>\n",
       "      <th>rating</th>\n",
       "      <th>categories</th>\n",
       "    </tr>\n",
       "  </thead>\n",
       "  <tbody>\n",
       "    <tr>\n",
       "      <td>Hidden Garden Steps</td>\n",
       "      <td>25</td>\n",
       "      <td>5.0</td>\n",
       "      <td>Landmarks &amp; Historical Buildings</td>\n",
       "    </tr>\n",
       "    <tr>\n",
       "      <td>Starboard SF</td>\n",
       "      <td>21</td>\n",
       "      <td>5.0</td>\n",
       "      <td>Diners</td>\n",
       "    </tr>\n",
       "    <tr>\n",
       "      <td>Fresh Catch Poke</td>\n",
       "      <td>17</td>\n",
       "      <td>5.0</td>\n",
       "      <td>Hawaiian</td>\n",
       "    </tr>\n",
       "    <tr>\n",
       "      <td>Pier 7</td>\n",
       "      <td>32</td>\n",
       "      <td>4.5</td>\n",
       "      <td>Landmarks &amp; Historical Buildings</td>\n",
       "    </tr>\n",
       "    <tr>\n",
       "      <td>Martin Luther King Jr Memorial</td>\n",
       "      <td>28</td>\n",
       "      <td>4.5</td>\n",
       "      <td>Landmarks &amp; Historical Buildings</td>\n",
       "    </tr>\n",
       "    <tr>\n",
       "      <td>Eagle's Point</td>\n",
       "      <td>22</td>\n",
       "      <td>4.5</td>\n",
       "      <td>Landmarks &amp; Historical Buildings</td>\n",
       "    </tr>\n",
       "    <tr>\n",
       "      <td>Golden Gate Park Windmills</td>\n",
       "      <td>52</td>\n",
       "      <td>4.5</td>\n",
       "      <td>Landmarks &amp; Historical Buildings</td>\n",
       "    </tr>\n",
       "    <tr>\n",
       "      <td>Ho's Bootleg Tavern</td>\n",
       "      <td>42</td>\n",
       "      <td>4.5</td>\n",
       "      <td>American (Traditional)</td>\n",
       "    </tr>\n",
       "  </tbody>\n",
       "</table>"
      ],
      "text/plain": [
       "<IPython.core.display.HTML object>"
      ]
     },
     "metadata": {},
     "output_type": "display_data"
    }
   ],
   "source": [
    "df3 = df[[\"name\", \"review_count\", \"rating\", \"categories\"]]\n",
    "df3 = df3[df3[\"review_count\"] < df3[\"review_count\"].quantile(.25)].sort_values(by=\"rating\", ascending=False)\n",
    "# Relatively less seen places/attractions with high ratings\n",
    "print \"Hidden gems in San Francisco\"\n",
    "display(HTML(df3.to_html(index=False)))"
   ]
  },
  {
   "cell_type": "code",
   "execution_count": 371,
   "metadata": {
    "collapsed": false
   },
   "outputs": [],
   "source": [
    "keys = []\n",
    "vals = []\n",
    "category_groups = df.groupby(\"categories\")\n",
    "for name, group in category_groups:\n",
    "    keys.append(name)\n",
    "    vals.append(group[\"rating\"].mean())\n"
   ]
  },
  {
   "cell_type": "code",
   "execution_count": 372,
   "metadata": {
    "collapsed": false
   },
   "outputs": [
    {
     "data": {
      "image/png": "[encoded data removed]",
      "text/plain": [
       "<matplotlib.figure.Figure at 0x10ef98090>"
      ]
     },
     "metadata": {},
     "output_type": "display_data"
    }
   ],
   "source": [
    "from pylab import *\n",
    "keycenters = arange(len(keys))\n",
    "figure(1)\n",
    "barh(keycenters,vals, align='center')\n",
    "yticks(keycenters,keys)\n",
    "xlabel('Average rating')\n",
    "title(\"Average rating for categories\")\n",
    "grid(True)"
   ]
  },
  {
   "cell_type": "code",
   "execution_count": null,
   "metadata": {
    "collapsed": true
   },
   "outputs": [],
   "source": []
  }
 ],
 "metadata": {
  "kernelspec": {
   "display_name": "Python 2",
   "language": "python",
   "name": "python2"
  },
  "language_info": {
   "codemirror_mode": {
    "name": "ipython",
    "version": 2
   },
   "file_extension": ".py",
   "mimetype": "text/x-python",
   "name": "python",
   "nbconvert_exporter": "python",
   "pygments_lexer": "ipython2",
   "version": "2.7.10"
  }
 },
 "nbformat": 4,
 "nbformat_minor": 0
}
